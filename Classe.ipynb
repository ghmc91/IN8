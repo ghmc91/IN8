{
 "cells": [
  {
   "cell_type": "code",
   "execution_count": 36,
   "metadata": {
    "collapsed": true
   },
   "outputs": [],
   "source": [
    "class produto_de_3():\n",
    "    \n",
    "    def __init__(self, a=0,b=0,c=0):\n",
    "        self._a = a\n",
    "        self._b = b\n",
    "        self._c = c\n",
    "    \n",
    "    @property\n",
    "    def a(self):\n",
    "        return self._a\n",
    "    \n",
    "    @a.setter\n",
    "    def a(self):\n",
    "        self.a = a\n",
    "    \n",
    "    @property\n",
    "    def b(self):\n",
    "        return self._b\n",
    "    \n",
    "    @b.setter\n",
    "    def b(self):\n",
    "        self.b = b\n",
    "    \n",
    "    @property\n",
    "    def c(self):\n",
    "        return self._c\n",
    "    \n",
    "    @c.setter\n",
    "    def c(self):\n",
    "        self.c = c\n",
    "        \n",
    "    def produto(self):\n",
    "        return (self.a * self.b * self.c)"
   ]
  },
  {
   "cell_type": "code",
   "execution_count": 28,
   "metadata": {},
   "outputs": [
    {
     "data": {
      "text/plain": [
       "27"
      ]
     },
     "execution_count": 28,
     "metadata": {},
     "output_type": "execute_result"
    }
   ],
   "source": [
    "#Utilizando o construtor para passar os valores\n",
    "p = produto_de_3(3,3,3)\n",
    "p.produto()"
   ]
  },
  {
   "cell_type": "code",
   "execution_count": 40,
   "metadata": {},
   "outputs": [
    {
     "data": {
      "text/plain": [
       "30"
      ]
     },
     "execution_count": 40,
     "metadata": {},
     "output_type": "execute_result"
    }
   ],
   "source": [
    "p = produto_de_3()\n",
    "\n",
    "#Setando valores\n",
    "p._a = 3\n",
    "p._b = 5\n",
    "p._c = 2\n",
    "\n",
    "p.produto()"
   ]
  },
  {
   "cell_type": "code",
   "execution_count": 41,
   "metadata": {},
   "outputs": [
    {
     "name": "stdout",
     "output_type": "stream",
     "text": [
      "3\n",
      "5\n",
      "2\n"
     ]
    }
   ],
   "source": [
    "#Métodos Get\n",
    "print(p.a)\n",
    "print(p.b)\n",
    "print(p.c)"
   ]
  }
 ],
 "metadata": {
  "kernelspec": {
   "display_name": "Python 3",
   "language": "python",
   "name": "python3"
  },
  "language_info": {
   "codemirror_mode": {
    "name": "ipython",
    "version": 3
   },
   "file_extension": ".py",
   "mimetype": "text/x-python",
   "name": "python",
   "nbconvert_exporter": "python",
   "pygments_lexer": "ipython3",
   "version": "3.6.3"
  }
 },
 "nbformat": 4,
 "nbformat_minor": 2
}
