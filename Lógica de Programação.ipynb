{
 "cells": [
  {
   "cell_type": "code",
   "execution_count": 9,
   "metadata": {},
   "outputs": [
    {
     "data": {
      "text/plain": [
       "[0,\n",
       " 15,\n",
       " 30,\n",
       " 45,\n",
       " 60,\n",
       " 75,\n",
       " 90,\n",
       " 105,\n",
       " 120,\n",
       " 135,\n",
       " 150,\n",
       " 165,\n",
       " 180,\n",
       " 195,\n",
       " 210,\n",
       " 225,\n",
       " 240,\n",
       " 255,\n",
       " 270,\n",
       " 285,\n",
       " 300,\n",
       " 315,\n",
       " 330,\n",
       " 345,\n",
       " 360,\n",
       " 375,\n",
       " 390,\n",
       " 405,\n",
       " 420,\n",
       " 435,\n",
       " 450,\n",
       " 465,\n",
       " 480,\n",
       " 495,\n",
       " 510,\n",
       " 525,\n",
       " 540,\n",
       " 555,\n",
       " 570,\n",
       " 585,\n",
       " 600,\n",
       " 615,\n",
       " 630,\n",
       " 645,\n",
       " 660,\n",
       " 675,\n",
       " 690,\n",
       " 705,\n",
       " 720,\n",
       " 735,\n",
       " 750,\n",
       " 765,\n",
       " 780,\n",
       " 795,\n",
       " 810,\n",
       " 825,\n",
       " 840,\n",
       " 855,\n",
       " 870,\n",
       " 885,\n",
       " 900,\n",
       " 915,\n",
       " 930,\n",
       " 945,\n",
       " 960,\n",
       " 975,\n",
       " 990]"
      ]
     },
     "execution_count": 9,
     "metadata": {},
     "output_type": "execute_result"
    }
   ],
   "source": [
    "def tres_cinco():\n",
    "\n",
    "    lista = []\n",
    "    for i in range(1000):    \n",
    "        if (i%3==0 and i%5==0):\n",
    "            lista.append(i)\n",
    "    return sum(lista)\n",
    "tres_cinco()"
   ]
  }
 ],
 "metadata": {
  "kernelspec": {
   "display_name": "Python 3",
   "language": "python",
   "name": "python3"
  },
  "language_info": {
   "codemirror_mode": {
    "name": "ipython",
    "version": 3
   },
   "file_extension": ".py",
   "mimetype": "text/x-python",
   "name": "python",
   "nbconvert_exporter": "python",
   "pygments_lexer": "ipython3",
   "version": "3.6.3"
  }
 },
 "nbformat": 4,
 "nbformat_minor": 2
}
