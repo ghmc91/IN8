{
 "cells": [
  {
   "cell_type": "code",
   "execution_count": 1,
   "metadata": {
    "collapsed": true
   },
   "outputs": [],
   "source": [
    "import regex as re"
   ]
  },
  {
   "cell_type": "code",
   "execution_count": 2,
   "metadata": {
    "collapsed": true
   },
   "outputs": [],
   "source": [
    "estados = ['Minas Gerais', 'Rio de Janeiro', 'São Paulo', 'Espírito Santo']\n",
    "siglas = ['ES', 'MG', 'SP', 'RJ']"
   ]
  },
  {
   "cell_type": "code",
   "execution_count": 9,
   "metadata": {},
   "outputs": [
    {
     "name": "stdout",
     "output_type": "stream",
     "text": [
      "ES -> Espírito Santo\n",
      "MG -> Minas Gerais\n",
      "RJ -> Rio de Janeiro\n",
      "SP -> São Paulo\n"
     ]
    }
   ],
   "source": [
    "dic = dict(zip(sorted(siglas), sorted(estados)))\n",
    "for d in dic.items():\n",
    "    print(d[0] + ' -> ' + d[1])"
   ]
  }
 ],
 "metadata": {
  "kernelspec": {
   "display_name": "Python 3",
   "language": "python",
   "name": "python3"
  },
  "language_info": {
   "codemirror_mode": {
    "name": "ipython",
    "version": 3
   },
   "file_extension": ".py",
   "mimetype": "text/x-python",
   "name": "python",
   "nbconvert_exporter": "python",
   "pygments_lexer": "ipython3",
   "version": "3.6.3"
  }
 },
 "nbformat": 4,
 "nbformat_minor": 2
}
